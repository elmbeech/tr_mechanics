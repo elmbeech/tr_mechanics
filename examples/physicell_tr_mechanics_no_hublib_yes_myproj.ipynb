{
  "nbformat": 4,
  "nbformat_minor": 0,
  "metadata": {
    "colab": {
      "provenance": []
    },
    "kernelspec": {
      "name": "python3",
      "display_name": "Python 3"
    },
    "language_info": {
      "name": "python"
    }
  },
  "cells": [
    {
      "cell_type": "code",
      "source": [
        "!git clone https://github.com/rheiland/tr_mechanics.git"
      ],
      "metadata": {
        "id": "qFHYfQ96W0-Z"
      },
      "execution_count": null,
      "outputs": []
    },
    {
      "cell_type": "code",
      "source": [
        "cd tr_mechanics"
      ],
      "metadata": {
        "id": "o9yARgrDX8Hx"
      },
      "execution_count": null,
      "outputs": []
    },
    {
      "cell_type": "code",
      "source": [
        "cp bin/myproj_colab bin/myproj"
      ],
      "metadata": {
        "id": "W9AIiM01X_Ei"
      },
      "execution_count": null,
      "outputs": []
    },
    {
      "cell_type": "code",
      "source": [
        "!chmod +x bin/myproj"
      ],
      "metadata": {
        "id": "Or9kNwzdwKQq"
      },
      "execution_count": null,
      "outputs": []
    },
    {
      "cell_type": "code",
      "source": [
        "%matplotlib inline"
      ],
      "metadata": {
        "id": "Qa0qoTmvZCxb"
      },
      "execution_count": null,
      "outputs": []
    },
    {
      "cell_type": "code",
      "source": [
        "import sys, os"
      ],
      "metadata": {
        "id": "OJqeiNVCZHAj"
      },
      "execution_count": null,
      "outputs": []
    },
    {
      "cell_type": "code",
      "source": [
        "sys.path.insert(0, os.path.abspath('bin'))"
      ],
      "metadata": {
        "id": "eNoIqKwuWxLG"
      },
      "execution_count": null,
      "outputs": []
    },
    {
      "cell_type": "code",
      "source": [
        "# pip install -U --upgrade-strategy only-if-needed hublib"
      ],
      "metadata": {
        "id": "ps5CTWkjVAxs"
      },
      "execution_count": null,
      "outputs": []
    },
    {
      "cell_type": "code",
      "source": [
        "import tr_mechanics"
      ],
      "metadata": {
        "id": "EDQarANEZKuQ"
      },
      "execution_count": null,
      "outputs": []
    },
    {
      "cell_type": "code",
      "source": [
        "tr_mechanics.gui"
      ],
      "metadata": {
        "collapsed": true,
        "id": "wCDrGRZcZndv"
      },
      "execution_count": null,
      "outputs": []
    },
    {
      "cell_type": "code",
      "source": [],
      "metadata": {
        "id": "qskwxdVgv2kd"
      },
      "execution_count": null,
      "outputs": []
    }
  ]
}